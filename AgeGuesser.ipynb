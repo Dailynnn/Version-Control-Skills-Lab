{
 "cells": [
  {
   "cell_type": "code",
   "execution_count": 6,
   "metadata": {},
   "outputs": [
    {
     "name": "stdin",
     "output_type": "stream",
     "text": [
      "Please enter your name: bob\n"
     ]
    },
    {
     "name": "stdout",
     "output_type": "stream",
     "text": [
      "Hello bob\n"
     ]
    },
    {
     "name": "stdin",
     "output_type": "stream",
     "text": [
      "What year were you born? 04\n",
      "Have you had your birthday this year?(Y/N) Y\n"
     ]
    },
    {
     "name": "stdout",
     "output_type": "stream",
     "text": [
      "bob you are 2019 years old\n"
     ]
    }
   ],
   "source": [
    "#Asks the user for their name\n",
    "name = input(\"Please enter your name:\")\n",
    "print(\"Hello\",name)\n",
    "\n",
    "#Asks the user for their birthyear and declines any response that isn't an int\n",
    "birthday = \"\"\n",
    "while(type(birthday) != int):\n",
    "        try: birthday = int(input(\"What year were you born?\"))\n",
    "        except: birthday = int(input(\"Error. What year were you born?\"))\n",
    "\n",
    "#Declines any response that isn't Y or N\n",
    "question = \"\"\n",
    "while(question != \"Y\" and question != \"N\"):\n",
    "        question = input(\"Have you had your birthday this year?(Y/N)\")\n",
    "\n",
    "#Prints response and subtracts a year if the user's birthday has not happened this year yet\n",
    "if(question == \"Y\"): print(name,\"you are\", 2023-birthday, \"years old\")\n",
    "else: print(name,\"you are\", 2023-birthday-1 , \"years old\")\n",
    "    "
   ]
  }
 ],
 "metadata": {
  "kernelspec": {
   "display_name": "Python 3",
   "language": "python",
   "name": "python3"
  },
  "language_info": {
   "codemirror_mode": {
    "name": "ipython",
    "version": 3
   },
   "file_extension": ".py",
   "mimetype": "text/x-python",
   "name": "python",
   "nbconvert_exporter": "python",
   "pygments_lexer": "ipython3",
   "version": "3.8.3"
  }
 },
 "nbformat": 4,
 "nbformat_minor": 4
}
